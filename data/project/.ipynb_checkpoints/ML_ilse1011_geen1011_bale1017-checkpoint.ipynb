{
 "cells": [
  {
   "cell_type": "code",
   "execution_count": 1,
   "id": "5164ed97",
   "metadata": {},
   "outputs": [],
   "source": [
    "import pandas as pd;"
   ]
  },
  {
   "cell_type": "code",
   "execution_count": 2,
   "id": "d93aee07",
   "metadata": {},
   "outputs": [],
   "source": [
    "# AUFGABE 1\n",
    "trainData = pd.read_csv(\"train.csv\", sep=\";\")\n",
    "\n",
    "# AUFGABE 8\n",
    "testData = pd.read_csv(\"test.csv\", sep=\";\")"
   ]
  },
  {
   "cell_type": "code",
   "execution_count": 3,
   "id": "e46b6b4c",
   "metadata": {},
   "outputs": [
    {
     "data": {
      "text/html": [
       "<div>\n",
       "<style scoped>\n",
       "    .dataframe tbody tr th:only-of-type {\n",
       "        vertical-align: middle;\n",
       "    }\n",
       "\n",
       "    .dataframe tbody tr th {\n",
       "        vertical-align: top;\n",
       "    }\n",
       "\n",
       "    .dataframe thead th {\n",
       "        text-align: right;\n",
       "    }\n",
       "</style>\n",
       "<table border=\"1\" class=\"dataframe\">\n",
       "  <thead>\n",
       "    <tr style=\"text-align: right;\">\n",
       "      <th></th>\n",
       "      <th>transactionId</th>\n",
       "      <th>basket</th>\n",
       "      <th>customerType</th>\n",
       "      <th>totalAmount</th>\n",
       "      <th>returnLabel</th>\n",
       "    </tr>\n",
       "  </thead>\n",
       "  <tbody>\n",
       "    <tr>\n",
       "      <th>0</th>\n",
       "      <td>9534310106</td>\n",
       "      <td>[4, 3, 4]</td>\n",
       "      <td>new</td>\n",
       "      <td>252.0</td>\n",
       "      <td>1</td>\n",
       "    </tr>\n",
       "    <tr>\n",
       "      <th>1</th>\n",
       "      <td>7202594767</td>\n",
       "      <td>[4, 2, 0, 2, 5]</td>\n",
       "      <td>existing</td>\n",
       "      <td>70.0</td>\n",
       "      <td>0</td>\n",
       "    </tr>\n",
       "    <tr>\n",
       "      <th>2</th>\n",
       "      <td>2737331698</td>\n",
       "      <td>[5]</td>\n",
       "      <td>existing</td>\n",
       "      <td>84.0</td>\n",
       "      <td>0</td>\n",
       "    </tr>\n",
       "    <tr>\n",
       "      <th>3</th>\n",
       "      <td>4868011733</td>\n",
       "      <td>[1, 4, 2, 4]</td>\n",
       "      <td>existing</td>\n",
       "      <td>116.0</td>\n",
       "      <td>0</td>\n",
       "    </tr>\n",
       "    <tr>\n",
       "      <th>4</th>\n",
       "      <td>7622406570</td>\n",
       "      <td>[2, 5, 3, 2, 3, 2, 0]</td>\n",
       "      <td>existing</td>\n",
       "      <td>378.0</td>\n",
       "      <td>0</td>\n",
       "    </tr>\n",
       "  </tbody>\n",
       "</table>\n",
       "</div>"
      ],
      "text/plain": [
       "   transactionId                 basket customerType  totalAmount  returnLabel\n",
       "0     9534310106              [4, 3, 4]          new        252.0            1\n",
       "1     7202594767        [4, 2, 0, 2, 5]     existing         70.0            0\n",
       "2     2737331698                    [5]     existing         84.0            0\n",
       "3     4868011733           [1, 4, 2, 4]     existing        116.0            0\n",
       "4     7622406570  [2, 5, 3, 2, 3, 2, 0]     existing        378.0            0"
      ]
     },
     "execution_count": 3,
     "metadata": {},
     "output_type": "execute_result"
    }
   ],
   "source": [
    "trainData.head()"
   ]
  },
  {
   "cell_type": "code",
   "execution_count": 4,
   "id": "4047e6a7",
   "metadata": {},
   "outputs": [
    {
     "data": {
      "text/plain": [
       "<AxesSubplot:>"
      ]
     },
     "execution_count": 4,
     "metadata": {},
     "output_type": "execute_result"
    },
    {
     "data": {
      "image/png": "[encoded data removed]",
      "text/plain": [
       "<Figure size 432x288 with 1 Axes>"
      ]
     },
     "metadata": {
      "needs_background": "light"
     },
     "output_type": "display_data"
    }
   ],
   "source": [
    "trainData[\"totalAmount\"].hist()"
   ]
  },
  {
   "cell_type": "code",
   "execution_count": 5,
   "id": "0d72da24",
   "metadata": {},
   "outputs": [
    {
     "data": {
      "text/plain": [
       "<AxesSubplot:>"
      ]
     },
     "execution_count": 5,
     "metadata": {},
     "output_type": "execute_result"
    },
    {
     "data": {
      "image/png": "[encoded data removed]",
      "text/plain": [
       "<Figure size 432x288 with 1 Axes>"
      ]
     },
     "metadata": {
      "needs_background": "light"
     },
     "output_type": "display_data"
    }
   ],
   "source": [
    "trainData[\"customerType\"].hist()"
   ]
  },
  {
   "cell_type": "code",
   "execution_count": 6,
   "id": "30f54c57",
   "metadata": {},
   "outputs": [
    {
     "data": {
      "text/plain": [
       "<AxesSubplot:>"
      ]
     },
     "execution_count": 6,
     "metadata": {},
     "output_type": "execute_result"
    },
    {
     "data": {
      "image/png": "[encoded data removed]",
      "text/plain": [
       "<Figure size 432x288 with 1 Axes>"
      ]
     },
     "metadata": {
      "needs_background": "light"
     },
     "output_type": "display_data"
    }
   ],
   "source": [
    "trainData[\"returnLabel\"].hist()"
   ]
  },
  {
   "cell_type": "code",
   "execution_count": 7,
   "id": "c260c80c",
   "metadata": {},
   "outputs": [
    {
     "data": {
      "text/plain": [
       "array([<AxesSubplot:title={'center':'existing'}>,\n",
       "       <AxesSubplot:title={'center':'new'}>], dtype=object)"
      ]
     },
     "execution_count": 7,
     "metadata": {},
     "output_type": "execute_result"
    },
    {
     "data": {
      "image/png": "[encoded data removed]",
      "text/plain": [
       "<Figure size 432x288 with 2 Axes>"
      ]
     },
     "metadata": {
      "needs_background": "light"
     },
     "output_type": "display_data"
    }
   ],
   "source": [
    "trainData.hist(by='customerType', column='returnLabel')"
   ]
  },
  {
   "cell_type": "code",
   "execution_count": 8,
   "id": "4bc0457f",
   "metadata": {},
   "outputs": [
    {
     "data": {
      "text/plain": [
       "<AxesSubplot:title={'center':'totalAmount'}, xlabel='returnLabel'>"
      ]
     },
     "execution_count": 8,
     "metadata": {},
     "output_type": "execute_result"
    },
    {
     "data": {
      "image/png": "[encoded data removed]",
      "text/plain": [
       "<Figure size 432x288 with 1 Axes>"
      ]
     },
     "metadata": {
      "needs_background": "light"
     },
     "output_type": "display_data"
    }
   ],
   "source": [
    "trainData.boxplot(column='totalAmount', by='returnLabel')"
   ]
  },
  {
   "cell_type": "code",
   "execution_count": 9,
   "id": "f5b17c2c",
   "metadata": {},
   "outputs": [],
   "source": [
    "import seaborn as sea"
   ]
  },
  {
   "cell_type": "code",
   "execution_count": 10,
   "id": "ab7de725",
   "metadata": {},
   "outputs": [
    {
     "data": {
      "text/plain": [
       "<seaborn.axisgrid.FacetGrid at 0x1d25527a520>"
      ]
     },
     "execution_count": 10,
     "metadata": {},
     "output_type": "execute_result"
    },
    {
     "data": {
      "image/png": "[encoded data removed]",
      "text/plain": [
       "<Figure size 425.5x360 with 1 Axes>"
      ]
     },
     "metadata": {
      "needs_background": "light"
     },
     "output_type": "display_data"
    }
   ],
   "source": [
    "sea.displot(trainData, x=\"totalAmount\", hue=\"returnLabel\")"
   ]
  },
  {
   "cell_type": "code",
   "execution_count": 11,
   "id": "c20e58e5",
   "metadata": {},
   "outputs": [],
   "source": [
    "# AUFGABE 3\n",
    "\n",
    "# Total Amount mit mean\n",
    "totalAmountMean = trainData[\"totalAmount\"].mean();\n",
    "trainData[\"totalAmount\"] = trainData[\"totalAmount\"].fillna(totalAmountMean);\n",
    "\n",
    "# CustomerType mit öfter vertretenem Wert:\n",
    "trainData[\"customerType\"] = trainData[\"customerType\"].fillna(trainData[\"customerType\"].value_counts().idxmax());"
   ]
  },
  {
   "cell_type": "code",
   "execution_count": 12,
   "id": "c013713d",
   "metadata": {
    "scrolled": true
   },
   "outputs": [
    {
     "data": {
      "text/plain": [
       "transactionId    22400\n",
       "basket           22400\n",
       "customerType     22400\n",
       "totalAmount      22400\n",
       "returnLabel      22400\n",
       "dtype: int64"
      ]
     },
     "execution_count": 12,
     "metadata": {},
     "output_type": "execute_result"
    }
   ],
   "source": [
    "trainData.count()"
   ]
  },
  {
   "cell_type": "code",
   "execution_count": 13,
   "id": "669729d0",
   "metadata": {
    "scrolled": true
   },
   "outputs": [
    {
     "data": {
      "text/plain": [
       "transactionId    9226\n",
       "basket           9226\n",
       "customerType     9226\n",
       "totalAmount      9226\n",
       "returnLabel      9226\n",
       "dtype: int64"
      ]
     },
     "execution_count": 13,
     "metadata": {},
     "output_type": "execute_result"
    }
   ],
   "source": [
    "# AUFGABE 9\n",
    "\n",
    "testData = testData.dropna();\n",
    "testData.count()"
   ]
  },
  {
   "cell_type": "code",
   "execution_count": 14,
   "id": "fdab4621",
   "metadata": {},
   "outputs": [
    {
     "data": {
      "text/html": [
       "<div>\n",
       "<style scoped>\n",
       "    .dataframe tbody tr th:only-of-type {\n",
       "        vertical-align: middle;\n",
       "    }\n",
       "\n",
       "    .dataframe tbody tr th {\n",
       "        vertical-align: top;\n",
       "    }\n",
       "\n",
       "    .dataframe thead th {\n",
       "        text-align: right;\n",
       "    }\n",
       "</style>\n",
       "<table border=\"1\" class=\"dataframe\">\n",
       "  <thead>\n",
       "    <tr style=\"text-align: right;\">\n",
       "      <th></th>\n",
       "      <th>transactionId</th>\n",
       "      <th>basket</th>\n",
       "      <th>totalAmount</th>\n",
       "      <th>returnLabel</th>\n",
       "      <th>customerType_existing</th>\n",
       "      <th>customerType_new</th>\n",
       "    </tr>\n",
       "  </thead>\n",
       "  <tbody>\n",
       "    <tr>\n",
       "      <th>0</th>\n",
       "      <td>9534310106</td>\n",
       "      <td>[4, 3, 4]</td>\n",
       "      <td>252.0</td>\n",
       "      <td>1</td>\n",
       "      <td>0</td>\n",
       "      <td>1</td>\n",
       "    </tr>\n",
       "    <tr>\n",
       "      <th>1</th>\n",
       "      <td>7202594767</td>\n",
       "      <td>[4, 2, 0, 2, 5]</td>\n",
       "      <td>70.0</td>\n",
       "      <td>0</td>\n",
       "      <td>1</td>\n",
       "      <td>0</td>\n",
       "    </tr>\n",
       "    <tr>\n",
       "      <th>2</th>\n",
       "      <td>2737331698</td>\n",
       "      <td>[5]</td>\n",
       "      <td>84.0</td>\n",
       "      <td>0</td>\n",
       "      <td>1</td>\n",
       "      <td>0</td>\n",
       "    </tr>\n",
       "    <tr>\n",
       "      <th>3</th>\n",
       "      <td>4868011733</td>\n",
       "      <td>[1, 4, 2, 4]</td>\n",
       "      <td>116.0</td>\n",
       "      <td>0</td>\n",
       "      <td>1</td>\n",
       "      <td>0</td>\n",
       "    </tr>\n",
       "    <tr>\n",
       "      <th>4</th>\n",
       "      <td>7622406570</td>\n",
       "      <td>[2, 5, 3, 2, 3, 2, 0]</td>\n",
       "      <td>378.0</td>\n",
       "      <td>0</td>\n",
       "      <td>1</td>\n",
       "      <td>0</td>\n",
       "    </tr>\n",
       "  </tbody>\n",
       "</table>\n",
       "</div>"
      ],
      "text/plain": [
       "   transactionId                 basket  totalAmount  returnLabel  \\\n",
       "0     9534310106              [4, 3, 4]        252.0            1   \n",
       "1     7202594767        [4, 2, 0, 2, 5]         70.0            0   \n",
       "2     2737331698                    [5]         84.0            0   \n",
       "3     4868011733           [1, 4, 2, 4]        116.0            0   \n",
       "4     7622406570  [2, 5, 3, 2, 3, 2, 0]        378.0            0   \n",
       "\n",
       "   customerType_existing  customerType_new  \n",
       "0                      0                 1  \n",
       "1                      1                 0  \n",
       "2                      1                 0  \n",
       "3                      1                 0  \n",
       "4                      1                 0  "
      ]
     },
     "execution_count": 14,
     "metadata": {},
     "output_type": "execute_result"
    }
   ],
   "source": [
    "# AUFGABE 4\n",
    "\n",
    "customerTypeOnHotEncoded = pd.get_dummies(trainData, columns=[\"customerType\"])\n",
    "customerTypeOnHotEncoded.head()"
   ]
  },
  {
   "cell_type": "code",
   "execution_count": 15,
   "id": "39dba9a3",
   "metadata": {
    "scrolled": true
   },
   "outputs": [],
   "source": [
    "testCustomerTypeOnHotEncoded = pd.get_dummies(testData, columns=[\"customerType\"])"
   ]
  },
  {
   "cell_type": "code",
   "execution_count": 16,
   "id": "4093087e",
   "metadata": {},
   "outputs": [
    {
     "data": {
      "text/html": [
       "<div>\n",
       "<style scoped>\n",
       "    .dataframe tbody tr th:only-of-type {\n",
       "        vertical-align: middle;\n",
       "    }\n",
       "\n",
       "    .dataframe tbody tr th {\n",
       "        vertical-align: top;\n",
       "    }\n",
       "\n",
       "    .dataframe thead th {\n",
       "        text-align: right;\n",
       "    }\n",
       "</style>\n",
       "<table border=\"1\" class=\"dataframe\">\n",
       "  <thead>\n",
       "    <tr style=\"text-align: right;\">\n",
       "      <th></th>\n",
       "      <th>basket</th>\n",
       "      <th>transactionId</th>\n",
       "    </tr>\n",
       "  </thead>\n",
       "  <tbody>\n",
       "    <tr>\n",
       "      <th>0</th>\n",
       "      <td>[4, 3, 4]</td>\n",
       "      <td>9534310106</td>\n",
       "    </tr>\n",
       "    <tr>\n",
       "      <th>1</th>\n",
       "      <td>[4, 2, 0, 2, 5]</td>\n",
       "      <td>7202594767</td>\n",
       "    </tr>\n",
       "    <tr>\n",
       "      <th>2</th>\n",
       "      <td>[5]</td>\n",
       "      <td>2737331698</td>\n",
       "    </tr>\n",
       "    <tr>\n",
       "      <th>3</th>\n",
       "      <td>[1, 4, 2, 4]</td>\n",
       "      <td>4868011733</td>\n",
       "    </tr>\n",
       "    <tr>\n",
       "      <th>4</th>\n",
       "      <td>[2, 5, 3, 2, 3, 2, 0]</td>\n",
       "      <td>7622406570</td>\n",
       "    </tr>\n",
       "  </tbody>\n",
       "</table>\n",
       "</div>"
      ],
      "text/plain": [
       "                  basket  transactionId\n",
       "0              [4, 3, 4]     9534310106\n",
       "1        [4, 2, 0, 2, 5]     7202594767\n",
       "2                    [5]     2737331698\n",
       "3           [1, 4, 2, 4]     4868011733\n",
       "4  [2, 5, 3, 2, 3, 2, 0]     7622406570"
      ]
     },
     "execution_count": 16,
     "metadata": {},
     "output_type": "execute_result"
    }
   ],
   "source": [
    "basketOneHotEncoded = pd.DataFrame()\n",
    "basketOneHotEncoded[\"basket\"] = trainData[\"basket\"].str[1:-1].str.split(', ').to_list();\n",
    "basketOneHotEncoded[\"transactionId\"] = trainData[\"transactionId\"]\n",
    "basketOneHotEncoded.head()"
   ]
  },
  {
   "cell_type": "code",
   "execution_count": 17,
   "id": "7be82eac",
   "metadata": {
    "scrolled": true
   },
   "outputs": [
    {
     "data": {
      "text/plain": [
       "5"
      ]
     },
     "execution_count": 17,
     "metadata": {},
     "output_type": "execute_result"
    }
   ],
   "source": [
    "# Maximum der verschiedenen Ausprägungen bestimmen\n",
    "maxCategory = int(basketOneHotEncoded[\"basket\"].map(lambda categories: max(categories)).max())\n",
    "maxCategory"
   ]
  },
  {
   "cell_type": "code",
   "execution_count": 18,
   "id": "75b1b566",
   "metadata": {},
   "outputs": [
    {
     "data": {
      "text/html": [
       "<div>\n",
       "<style scoped>\n",
       "    .dataframe tbody tr th:only-of-type {\n",
       "        vertical-align: middle;\n",
       "    }\n",
       "\n",
       "    .dataframe tbody tr th {\n",
       "        vertical-align: top;\n",
       "    }\n",
       "\n",
       "    .dataframe thead th {\n",
       "        text-align: right;\n",
       "    }\n",
       "</style>\n",
       "<table border=\"1\" class=\"dataframe\">\n",
       "  <thead>\n",
       "    <tr style=\"text-align: right;\">\n",
       "      <th></th>\n",
       "      <th>basket</th>\n",
       "      <th>transactionId</th>\n",
       "      <th>num_0</th>\n",
       "      <th>num_1</th>\n",
       "      <th>num_2</th>\n",
       "      <th>num_3</th>\n",
       "      <th>num_4</th>\n",
       "      <th>num_5</th>\n",
       "    </tr>\n",
       "  </thead>\n",
       "  <tbody>\n",
       "    <tr>\n",
       "      <th>0</th>\n",
       "      <td>[4, 3, 4]</td>\n",
       "      <td>9534310106</td>\n",
       "      <td>0</td>\n",
       "      <td>0</td>\n",
       "      <td>0</td>\n",
       "      <td>1</td>\n",
       "      <td>2</td>\n",
       "      <td>0</td>\n",
       "    </tr>\n",
       "    <tr>\n",
       "      <th>1</th>\n",
       "      <td>[4, 2, 0, 2, 5]</td>\n",
       "      <td>7202594767</td>\n",
       "      <td>1</td>\n",
       "      <td>0</td>\n",
       "      <td>2</td>\n",
       "      <td>0</td>\n",
       "      <td>1</td>\n",
       "      <td>1</td>\n",
       "    </tr>\n",
       "    <tr>\n",
       "      <th>2</th>\n",
       "      <td>[5]</td>\n",
       "      <td>2737331698</td>\n",
       "      <td>0</td>\n",
       "      <td>0</td>\n",
       "      <td>0</td>\n",
       "      <td>0</td>\n",
       "      <td>0</td>\n",
       "      <td>1</td>\n",
       "    </tr>\n",
       "    <tr>\n",
       "      <th>3</th>\n",
       "      <td>[1, 4, 2, 4]</td>\n",
       "      <td>4868011733</td>\n",
       "      <td>0</td>\n",
       "      <td>1</td>\n",
       "      <td>1</td>\n",
       "      <td>0</td>\n",
       "      <td>2</td>\n",
       "      <td>0</td>\n",
       "    </tr>\n",
       "    <tr>\n",
       "      <th>4</th>\n",
       "      <td>[2, 5, 3, 2, 3, 2, 0]</td>\n",
       "      <td>7622406570</td>\n",
       "      <td>1</td>\n",
       "      <td>0</td>\n",
       "      <td>3</td>\n",
       "      <td>2</td>\n",
       "      <td>0</td>\n",
       "      <td>1</td>\n",
       "    </tr>\n",
       "    <tr>\n",
       "      <th>...</th>\n",
       "      <td>...</td>\n",
       "      <td>...</td>\n",
       "      <td>...</td>\n",
       "      <td>...</td>\n",
       "      <td>...</td>\n",
       "      <td>...</td>\n",
       "      <td>...</td>\n",
       "      <td>...</td>\n",
       "    </tr>\n",
       "    <tr>\n",
       "      <th>22395</th>\n",
       "      <td>[4, 5, 4]</td>\n",
       "      <td>5461363334</td>\n",
       "      <td>0</td>\n",
       "      <td>0</td>\n",
       "      <td>0</td>\n",
       "      <td>0</td>\n",
       "      <td>2</td>\n",
       "      <td>1</td>\n",
       "    </tr>\n",
       "    <tr>\n",
       "      <th>22396</th>\n",
       "      <td>[3, 4, 4, 4, 0]</td>\n",
       "      <td>9013779310</td>\n",
       "      <td>1</td>\n",
       "      <td>0</td>\n",
       "      <td>0</td>\n",
       "      <td>1</td>\n",
       "      <td>3</td>\n",
       "      <td>0</td>\n",
       "    </tr>\n",
       "    <tr>\n",
       "      <th>22397</th>\n",
       "      <td>[0, 4, 3]</td>\n",
       "      <td>1590423615</td>\n",
       "      <td>1</td>\n",
       "      <td>0</td>\n",
       "      <td>0</td>\n",
       "      <td>1</td>\n",
       "      <td>1</td>\n",
       "      <td>0</td>\n",
       "    </tr>\n",
       "    <tr>\n",
       "      <th>22398</th>\n",
       "      <td>[0, 5, 1, 2, 5, 5, 4, 4]</td>\n",
       "      <td>1800993941</td>\n",
       "      <td>1</td>\n",
       "      <td>1</td>\n",
       "      <td>1</td>\n",
       "      <td>0</td>\n",
       "      <td>2</td>\n",
       "      <td>3</td>\n",
       "    </tr>\n",
       "    <tr>\n",
       "      <th>22399</th>\n",
       "      <td>[4, 4, 0, 3]</td>\n",
       "      <td>9903643128</td>\n",
       "      <td>1</td>\n",
       "      <td>0</td>\n",
       "      <td>0</td>\n",
       "      <td>1</td>\n",
       "      <td>2</td>\n",
       "      <td>0</td>\n",
       "    </tr>\n",
       "  </tbody>\n",
       "</table>\n",
       "<p>22400 rows × 8 columns</p>\n",
       "</div>"
      ],
      "text/plain": [
       "                         basket  transactionId  num_0  num_1  num_2  num_3  \\\n",
       "0                     [4, 3, 4]     9534310106      0      0      0      1   \n",
       "1               [4, 2, 0, 2, 5]     7202594767      1      0      2      0   \n",
       "2                           [5]     2737331698      0      0      0      0   \n",
       "3                  [1, 4, 2, 4]     4868011733      0      1      1      0   \n",
       "4         [2, 5, 3, 2, 3, 2, 0]     7622406570      1      0      3      2   \n",
       "...                         ...            ...    ...    ...    ...    ...   \n",
       "22395                 [4, 5, 4]     5461363334      0      0      0      0   \n",
       "22396           [3, 4, 4, 4, 0]     9013779310      1      0      0      1   \n",
       "22397                 [0, 4, 3]     1590423615      1      0      0      1   \n",
       "22398  [0, 5, 1, 2, 5, 5, 4, 4]     1800993941      1      1      1      0   \n",
       "22399              [4, 4, 0, 3]     9903643128      1      0      0      1   \n",
       "\n",
       "       num_4  num_5  \n",
       "0          2      0  \n",
       "1          1      1  \n",
       "2          0      1  \n",
       "3          2      0  \n",
       "4          0      1  \n",
       "...      ...    ...  \n",
       "22395      2      1  \n",
       "22396      3      0  \n",
       "22397      1      0  \n",
       "22398      2      3  \n",
       "22399      2      0  \n",
       "\n",
       "[22400 rows x 8 columns]"
      ]
     },
     "execution_count": 18,
     "metadata": {},
     "output_type": "execute_result"
    }
   ],
   "source": [
    "for i in range(maxCategory + 1): \n",
    "    basketOneHotEncoded[\"num_\" + str(i)] = trainData[\"basket\"].map(lambda category: category.count(str(i)))\n",
    "\n",
    "# Ausgabe    \n",
    "basketOneHotEncoded"
   ]
  },
  {
   "cell_type": "code",
   "execution_count": 19,
   "id": "1960801e",
   "metadata": {
    "scrolled": true
   },
   "outputs": [
    {
     "data": {
      "text/html": [
       "<div>\n",
       "<style scoped>\n",
       "    .dataframe tbody tr th:only-of-type {\n",
       "        vertical-align: middle;\n",
       "    }\n",
       "\n",
       "    .dataframe tbody tr th {\n",
       "        vertical-align: top;\n",
       "    }\n",
       "\n",
       "    .dataframe thead th {\n",
       "        text-align: right;\n",
       "    }\n",
       "</style>\n",
       "<table border=\"1\" class=\"dataframe\">\n",
       "  <thead>\n",
       "    <tr style=\"text-align: right;\">\n",
       "      <th></th>\n",
       "      <th>basket_x</th>\n",
       "      <th>transactionId</th>\n",
       "      <th>num_0</th>\n",
       "      <th>num_1</th>\n",
       "      <th>num_2</th>\n",
       "      <th>num_3</th>\n",
       "      <th>num_4</th>\n",
       "      <th>num_5</th>\n",
       "      <th>basket_y</th>\n",
       "      <th>totalAmount</th>\n",
       "      <th>returnLabel</th>\n",
       "      <th>customerType_existing</th>\n",
       "      <th>customerType_new</th>\n",
       "    </tr>\n",
       "  </thead>\n",
       "  <tbody>\n",
       "    <tr>\n",
       "      <th>0</th>\n",
       "      <td>[4, 3, 4]</td>\n",
       "      <td>9534310106</td>\n",
       "      <td>0</td>\n",
       "      <td>0</td>\n",
       "      <td>0</td>\n",
       "      <td>1</td>\n",
       "      <td>2</td>\n",
       "      <td>0</td>\n",
       "      <td>[4, 3, 4]</td>\n",
       "      <td>252.0</td>\n",
       "      <td>1</td>\n",
       "      <td>0</td>\n",
       "      <td>1</td>\n",
       "    </tr>\n",
       "    <tr>\n",
       "      <th>1</th>\n",
       "      <td>[4, 2, 0, 2, 5]</td>\n",
       "      <td>7202594767</td>\n",
       "      <td>1</td>\n",
       "      <td>0</td>\n",
       "      <td>2</td>\n",
       "      <td>0</td>\n",
       "      <td>1</td>\n",
       "      <td>1</td>\n",
       "      <td>[4, 2, 0, 2, 5]</td>\n",
       "      <td>70.0</td>\n",
       "      <td>0</td>\n",
       "      <td>1</td>\n",
       "      <td>0</td>\n",
       "    </tr>\n",
       "    <tr>\n",
       "      <th>2</th>\n",
       "      <td>[5]</td>\n",
       "      <td>2737331698</td>\n",
       "      <td>0</td>\n",
       "      <td>0</td>\n",
       "      <td>0</td>\n",
       "      <td>0</td>\n",
       "      <td>0</td>\n",
       "      <td>1</td>\n",
       "      <td>[5]</td>\n",
       "      <td>84.0</td>\n",
       "      <td>0</td>\n",
       "      <td>1</td>\n",
       "      <td>0</td>\n",
       "    </tr>\n",
       "    <tr>\n",
       "      <th>3</th>\n",
       "      <td>[1, 4, 2, 4]</td>\n",
       "      <td>4868011733</td>\n",
       "      <td>0</td>\n",
       "      <td>1</td>\n",
       "      <td>1</td>\n",
       "      <td>0</td>\n",
       "      <td>2</td>\n",
       "      <td>0</td>\n",
       "      <td>[1, 4, 2, 4]</td>\n",
       "      <td>116.0</td>\n",
       "      <td>0</td>\n",
       "      <td>1</td>\n",
       "      <td>0</td>\n",
       "    </tr>\n",
       "    <tr>\n",
       "      <th>4</th>\n",
       "      <td>[2, 5, 3, 2, 3, 2, 0]</td>\n",
       "      <td>7622406570</td>\n",
       "      <td>1</td>\n",
       "      <td>0</td>\n",
       "      <td>3</td>\n",
       "      <td>2</td>\n",
       "      <td>0</td>\n",
       "      <td>1</td>\n",
       "      <td>[2, 5, 3, 2, 3, 2, 0]</td>\n",
       "      <td>378.0</td>\n",
       "      <td>0</td>\n",
       "      <td>1</td>\n",
       "      <td>0</td>\n",
       "    </tr>\n",
       "  </tbody>\n",
       "</table>\n",
       "</div>"
      ],
      "text/plain": [
       "                basket_x  transactionId  num_0  num_1  num_2  num_3  num_4  \\\n",
       "0              [4, 3, 4]     9534310106      0      0      0      1      2   \n",
       "1        [4, 2, 0, 2, 5]     7202594767      1      0      2      0      1   \n",
       "2                    [5]     2737331698      0      0      0      0      0   \n",
       "3           [1, 4, 2, 4]     4868011733      0      1      1      0      2   \n",
       "4  [2, 5, 3, 2, 3, 2, 0]     7622406570      1      0      3      2      0   \n",
       "\n",
       "   num_5               basket_y  totalAmount  returnLabel  \\\n",
       "0      0              [4, 3, 4]        252.0            1   \n",
       "1      1        [4, 2, 0, 2, 5]         70.0            0   \n",
       "2      1                    [5]         84.0            0   \n",
       "3      0           [1, 4, 2, 4]        116.0            0   \n",
       "4      1  [2, 5, 3, 2, 3, 2, 0]        378.0            0   \n",
       "\n",
       "   customerType_existing  customerType_new  \n",
       "0                      0                 1  \n",
       "1                      1                 0  \n",
       "2                      1                 0  \n",
       "3                      1                 0  \n",
       "4                      1                 0  "
      ]
     },
     "execution_count": 19,
     "metadata": {},
     "output_type": "execute_result"
    }
   ],
   "source": [
    "oneHotEncoded = basketOneHotEncoded.merge(customerTypeOnHotEncoded, on=\"transactionId\")\n",
    "oneHotEncoded.head()"
   ]
  },
  {
   "cell_type": "code",
   "execution_count": 20,
   "id": "a8abcaef",
   "metadata": {},
   "outputs": [
    {
     "data": {
      "text/html": [
       "<div>\n",
       "<style scoped>\n",
       "    .dataframe tbody tr th:only-of-type {\n",
       "        vertical-align: middle;\n",
       "    }\n",
       "\n",
       "    .dataframe tbody tr th {\n",
       "        vertical-align: top;\n",
       "    }\n",
       "\n",
       "    .dataframe thead th {\n",
       "        text-align: right;\n",
       "    }\n",
       "</style>\n",
       "<table border=\"1\" class=\"dataframe\">\n",
       "  <thead>\n",
       "    <tr style=\"text-align: right;\">\n",
       "      <th></th>\n",
       "      <th>transactionId</th>\n",
       "      <th>num_0</th>\n",
       "      <th>num_1</th>\n",
       "      <th>num_2</th>\n",
       "      <th>num_3</th>\n",
       "      <th>num_4</th>\n",
       "      <th>num_5</th>\n",
       "      <th>totalAmount</th>\n",
       "      <th>returnLabel</th>\n",
       "      <th>customerType_existing</th>\n",
       "      <th>customerType_new</th>\n",
       "    </tr>\n",
       "  </thead>\n",
       "  <tbody>\n",
       "    <tr>\n",
       "      <th>0</th>\n",
       "      <td>9534310106</td>\n",
       "      <td>0</td>\n",
       "      <td>0</td>\n",
       "      <td>0</td>\n",
       "      <td>1</td>\n",
       "      <td>2</td>\n",
       "      <td>0</td>\n",
       "      <td>252.0</td>\n",
       "      <td>1</td>\n",
       "      <td>0</td>\n",
       "      <td>1</td>\n",
       "    </tr>\n",
       "    <tr>\n",
       "      <th>1</th>\n",
       "      <td>7202594767</td>\n",
       "      <td>1</td>\n",
       "      <td>0</td>\n",
       "      <td>2</td>\n",
       "      <td>0</td>\n",
       "      <td>1</td>\n",
       "      <td>1</td>\n",
       "      <td>70.0</td>\n",
       "      <td>0</td>\n",
       "      <td>1</td>\n",
       "      <td>0</td>\n",
       "    </tr>\n",
       "    <tr>\n",
       "      <th>2</th>\n",
       "      <td>2737331698</td>\n",
       "      <td>0</td>\n",
       "      <td>0</td>\n",
       "      <td>0</td>\n",
       "      <td>0</td>\n",
       "      <td>0</td>\n",
       "      <td>1</td>\n",
       "      <td>84.0</td>\n",
       "      <td>0</td>\n",
       "      <td>1</td>\n",
       "      <td>0</td>\n",
       "    </tr>\n",
       "    <tr>\n",
       "      <th>3</th>\n",
       "      <td>4868011733</td>\n",
       "      <td>0</td>\n",
       "      <td>1</td>\n",
       "      <td>1</td>\n",
       "      <td>0</td>\n",
       "      <td>2</td>\n",
       "      <td>0</td>\n",
       "      <td>116.0</td>\n",
       "      <td>0</td>\n",
       "      <td>1</td>\n",
       "      <td>0</td>\n",
       "    </tr>\n",
       "    <tr>\n",
       "      <th>4</th>\n",
       "      <td>7622406570</td>\n",
       "      <td>1</td>\n",
       "      <td>0</td>\n",
       "      <td>3</td>\n",
       "      <td>2</td>\n",
       "      <td>0</td>\n",
       "      <td>1</td>\n",
       "      <td>378.0</td>\n",
       "      <td>0</td>\n",
       "      <td>1</td>\n",
       "      <td>0</td>\n",
       "    </tr>\n",
       "  </tbody>\n",
       "</table>\n",
       "</div>"
      ],
      "text/plain": [
       "   transactionId  num_0  num_1  num_2  num_3  num_4  num_5  totalAmount  \\\n",
       "0     9534310106      0      0      0      1      2      0        252.0   \n",
       "1     7202594767      1      0      2      0      1      1         70.0   \n",
       "2     2737331698      0      0      0      0      0      1         84.0   \n",
       "3     4868011733      0      1      1      0      2      0        116.0   \n",
       "4     7622406570      1      0      3      2      0      1        378.0   \n",
       "\n",
       "   returnLabel  customerType_existing  customerType_new  \n",
       "0            1                      0                 1  \n",
       "1            0                      1                 0  \n",
       "2            0                      1                 0  \n",
       "3            0                      1                 0  \n",
       "4            0                      1                 0  "
      ]
     },
     "execution_count": 20,
     "metadata": {},
     "output_type": "execute_result"
    }
   ],
   "source": [
    "oneHotEncoded = oneHotEncoded.drop(columns=[\"basket_x\", \"basket_y\"])\n",
    "oneHotEncoded.head()"
   ]
  },
  {
   "cell_type": "code",
   "execution_count": 21,
   "id": "80eb3b75",
   "metadata": {},
   "outputs": [],
   "source": [
    "# AUFGABE 10\n",
    "\n",
    "# One Hot Encoded Test Data\n",
    "\n",
    "testBasketOneHotEncoded = pd.DataFrame()\n",
    "testBasketOneHotEncoded[\"basket\"] = testData[\"basket\"].str[1:-1].str.split(', ').to_list();\n",
    "testBasketOneHotEncoded[\"transactionId\"] = testData[\"transactionId\"]\n",
    "\n",
    "# Maximum der verschiedenen Ausprägungen bestimmen\n",
    "maxCategory = int(testBasketOneHotEncoded[\"basket\"].map(lambda categories: max(categories)).max())\n",
    "\n",
    "for i in range(maxCategory + 1): \n",
    "    testBasketOneHotEncoded[\"num_\" + str(i)] = testData[\"basket\"].map(lambda category: category.count(str(i)))\n",
    "\n",
    "\n",
    "testOneHotEncoded = testBasketOneHotEncoded.merge(testCustomerTypeOnHotEncoded, on=\"transactionId\")\n",
    "testOneHotEncoded = testOneHotEncoded.drop(columns=[\"basket_x\", \"basket_y\"])\n",
    "\n",
    "\n",
    "# Feature Label\n",
    "\n",
    "testFeatures = testOneHotEncoded.drop(\"returnLabel\", axis=1)\n",
    "testLabels = testOneHotEncoded[\"returnLabel\"]\n"
   ]
  },
  {
   "cell_type": "code",
   "execution_count": 22,
   "id": "c6cfed01",
   "metadata": {},
   "outputs": [],
   "source": [
    "# AUFGABE 6\n",
    "\n",
    "features = oneHotEncoded.drop(\"returnLabel\", axis=1)\n",
    "labels = oneHotEncoded[\"returnLabel\"]"
   ]
  },
  {
   "cell_type": "code",
   "execution_count": 23,
   "id": "ecbdf6a8",
   "metadata": {
    "scrolled": true
   },
   "outputs": [
    {
     "data": {
      "text/html": [
       "<div>\n",
       "<style scoped>\n",
       "    .dataframe tbody tr th:only-of-type {\n",
       "        vertical-align: middle;\n",
       "    }\n",
       "\n",
       "    .dataframe tbody tr th {\n",
       "        vertical-align: top;\n",
       "    }\n",
       "\n",
       "    .dataframe thead th {\n",
       "        text-align: right;\n",
       "    }\n",
       "</style>\n",
       "<table border=\"1\" class=\"dataframe\">\n",
       "  <thead>\n",
       "    <tr style=\"text-align: right;\">\n",
       "      <th></th>\n",
       "      <th>transactionId</th>\n",
       "      <th>num_0</th>\n",
       "      <th>num_1</th>\n",
       "      <th>num_2</th>\n",
       "      <th>num_3</th>\n",
       "      <th>num_4</th>\n",
       "      <th>num_5</th>\n",
       "      <th>amount</th>\n",
       "      <th>existing</th>\n",
       "      <th>new</th>\n",
       "    </tr>\n",
       "  </thead>\n",
       "  <tbody>\n",
       "    <tr>\n",
       "      <th>0</th>\n",
       "      <td>-0.526606</td>\n",
       "      <td>-0.771563</td>\n",
       "      <td>-0.767737</td>\n",
       "      <td>0.369688</td>\n",
       "      <td>1.985830</td>\n",
       "      <td>0.634586</td>\n",
       "      <td>-0.644106</td>\n",
       "      <td>0.497487</td>\n",
       "      <td>0.641597</td>\n",
       "      <td>-0.641597</td>\n",
       "    </tr>\n",
       "    <tr>\n",
       "      <th>1</th>\n",
       "      <td>1.348875</td>\n",
       "      <td>-0.771563</td>\n",
       "      <td>-0.767737</td>\n",
       "      <td>-0.775046</td>\n",
       "      <td>1.030510</td>\n",
       "      <td>0.634586</td>\n",
       "      <td>0.527090</td>\n",
       "      <td>-0.809682</td>\n",
       "      <td>0.641597</td>\n",
       "      <td>-0.641597</td>\n",
       "    </tr>\n",
       "    <tr>\n",
       "      <th>2</th>\n",
       "      <td>1.483045</td>\n",
       "      <td>0.383487</td>\n",
       "      <td>3.869533</td>\n",
       "      <td>1.514422</td>\n",
       "      <td>1.030510</td>\n",
       "      <td>0.634586</td>\n",
       "      <td>-0.644106</td>\n",
       "      <td>0.074169</td>\n",
       "      <td>0.641597</td>\n",
       "      <td>-0.641597</td>\n",
       "    </tr>\n",
       "    <tr>\n",
       "      <th>3</th>\n",
       "      <td>-0.371908</td>\n",
       "      <td>0.383487</td>\n",
       "      <td>2.710216</td>\n",
       "      <td>1.514422</td>\n",
       "      <td>0.075189</td>\n",
       "      <td>-0.879391</td>\n",
       "      <td>0.527090</td>\n",
       "      <td>1.251086</td>\n",
       "      <td>0.641597</td>\n",
       "      <td>-0.641597</td>\n",
       "    </tr>\n",
       "    <tr>\n",
       "      <th>4</th>\n",
       "      <td>-0.834066</td>\n",
       "      <td>-0.771563</td>\n",
       "      <td>0.391580</td>\n",
       "      <td>1.514422</td>\n",
       "      <td>0.075189</td>\n",
       "      <td>-0.122402</td>\n",
       "      <td>1.698287</td>\n",
       "      <td>0.129991</td>\n",
       "      <td>0.641597</td>\n",
       "      <td>-0.641597</td>\n",
       "    </tr>\n",
       "  </tbody>\n",
       "</table>\n",
       "</div>"
      ],
      "text/plain": [
       "   transactionId     num_0     num_1     num_2     num_3     num_4     num_5  \\\n",
       "0      -0.526606 -0.771563 -0.767737  0.369688  1.985830  0.634586 -0.644106   \n",
       "1       1.348875 -0.771563 -0.767737 -0.775046  1.030510  0.634586  0.527090   \n",
       "2       1.483045  0.383487  3.869533  1.514422  1.030510  0.634586 -0.644106   \n",
       "3      -0.371908  0.383487  2.710216  1.514422  0.075189 -0.879391  0.527090   \n",
       "4      -0.834066 -0.771563  0.391580  1.514422  0.075189 -0.122402  1.698287   \n",
       "\n",
       "     amount  existing       new  \n",
       "0  0.497487  0.641597 -0.641597  \n",
       "1 -0.809682  0.641597 -0.641597  \n",
       "2  0.074169  0.641597 -0.641597  \n",
       "3  1.251086  0.641597 -0.641597  \n",
       "4  0.129991  0.641597 -0.641597  "
      ]
     },
     "execution_count": 23,
     "metadata": {},
     "output_type": "execute_result"
    }
   ],
   "source": [
    "# Scaled Test Data\n",
    "from sklearn.preprocessing import StandardScaler\n",
    "# Initialisieren\n",
    "scaler = StandardScaler()\n",
    "# Daten erfassen\n",
    "scaler.fit(features)\n",
    "features = scaler.transform(features)\n",
    "features = pd.DataFrame(features, columns=[\"transactionId\", \"num_0\", \"num_1\", \"num_2\", \"num_3\", \"num_4\", \"num_5\", \"amount\", \"existing\", \"new\"])\n",
    "\n",
    "# AUFGABE 11\n",
    "\n",
    "testFeatures = scaler.transform(testFeatures)\n",
    "testFeatures = pd.DataFrame(testFeatures, columns=[\"transactionId\", \"num_0\", \"num_1\", \"num_2\", \"num_3\", \"num_4\", \"num_5\", \"amount\", \"existing\", \"new\"])\n",
    "testFeatures.head()"
   ]
  },
  {
   "cell_type": "code",
   "execution_count": 24,
   "id": "b990e41b",
   "metadata": {},
   "outputs": [],
   "source": [
    "folds = 5"
   ]
  },
  {
   "cell_type": "code",
   "execution_count": 25,
   "id": "ecb664f4",
   "metadata": {
    "scrolled": true
   },
   "outputs": [
    {
     "name": "stdout",
     "output_type": "stream",
     "text": [
      "LogisticRegression(C=5, max_iter=1000, penalty='l1', solver='liblinear')\n"
     ]
    }
   ],
   "source": [
    "# AUFGABE 7.1\n",
    "\n",
    "from sklearn.linear_model import LogisticRegression\n",
    "from sklearn.metrics import accuracy_score\n",
    "from sklearn.model_selection import GridSearchCV\n",
    "\n",
    "# l1 = lasso regression, \n",
    "# l2 = ridge regression\n",
    "\n",
    "grid={\"C\": [0.1,1,4,5,6,10,30,100], \"penalty\": [\"l1\",\"l2\"]}\n",
    "lgr = LogisticRegression(max_iter=1000, solver=\"liblinear\")\n",
    "\n",
    "grid_lgr = GridSearchCV(lgr, grid, cv=folds)\n",
    "grid_lgr.fit(features, labels)\n",
    "\n",
    "print(grid_lgr.best_estimator_)"
   ]
  },
  {
   "cell_type": "code",
   "execution_count": 26,
   "id": "ff707ebe",
   "metadata": {},
   "outputs": [
    {
     "name": "stdout",
     "output_type": "stream",
     "text": [
      "RandomForestClassifier(max_depth=6, n_estimators=80, random_state=0)\n"
     ]
    }
   ],
   "source": [
    "# AUFGABE 7.2\n",
    "\n",
    "from sklearn.ensemble import RandomForestClassifier\n",
    "\n",
    "clf = RandomForestClassifier(random_state=0)\n",
    "\n",
    "params = {'n_estimators': [60,80,100,120,140], 'max_depth': [2, 4, 6]}\n",
    "\n",
    "grid_clf = GridSearchCV(estimator=clf, param_grid=params, cv=folds)\n",
    "grid_clf.fit(features, labels)\n",
    "\n",
    "print(grid_clf.best_estimator_)"
   ]
  },
  {
   "cell_type": "code",
   "execution_count": 27,
   "id": "7a8c2294",
   "metadata": {},
   "outputs": [
    {
     "name": "stdout",
     "output_type": "stream",
     "text": [
      "GradientBoostingClassifier(max_depth=6, n_estimators=80, random_state=0)\n"
     ]
    }
   ],
   "source": [
    "# AUFGABE 7.3\n",
    "\n",
    "from sklearn.ensemble import GradientBoostingClassifier\n",
    "\n",
    "cbc = GradientBoostingClassifier(random_state=0)\n",
    "\n",
    "params = {'n_estimators': [60,80,100,120,140], 'max_depth': [2, 4, 6]}\n",
    "\n",
    "grid_cbc = GridSearchCV(estimator=cbc, param_grid=params, cv=folds)\n",
    "grid_cbc.fit(features, labels)\n",
    "\n",
    "print(grid_cbc.best_estimator_)"
   ]
  },
  {
   "cell_type": "code",
   "execution_count": 28,
   "id": "0f4fdc2c",
   "metadata": {},
   "outputs": [],
   "source": [
    "# AUFGABE 12 + 13"
   ]
  },
  {
   "cell_type": "code",
   "execution_count": 29,
   "id": "33ca91fe",
   "metadata": {},
   "outputs": [],
   "source": [
    "lgr = LogisticRegression(max_iter=1000, penalty='l1', C=5, solver=\"liblinear\")\n",
    "lgr.fit(features, labels)\n",
    "\n",
    "lgrPredict = lgr.predict(testFeatures)"
   ]
  },
  {
   "cell_type": "code",
   "execution_count": 30,
   "id": "73f4499b",
   "metadata": {},
   "outputs": [
    {
     "name": "stdout",
     "output_type": "stream",
     "text": [
      "accuracy Test: 0.8731536813620476\n",
      "accuracy Train: 0.8785267857142857\n",
      "precision: 0.8161734055856606\n",
      "recall: 0.74110522331567\n"
     ]
    }
   ],
   "source": [
    "from sklearn.metrics import precision_score\n",
    "from sklearn.metrics import recall_score\n",
    "print(\"accuracy Test: \" + str(accuracy_score(testLabels, lgrPredict)))\n",
    "print(\"accuracy Train: \" + str(accuracy_score(labels, lgr.predict(features))))\n",
    "print(\"precision: \" + str(precision_score(testLabels, lgrPredict)))\n",
    "print(\"recall: \" + str(recall_score(testLabels, lgrPredict)))"
   ]
  },
  {
   "cell_type": "code",
   "execution_count": 31,
   "id": "287580f1",
   "metadata": {},
   "outputs": [],
   "source": [
    "# Test Daten mit RandomForestCLassifier\n",
    "\n",
    "clf = RandomForestClassifier(random_state=0, n_estimators=80, max_depth=6)\n",
    "clf.fit(features, labels)\n",
    "\n",
    "clfPredict = clf.predict(testFeatures)"
   ]
  },
  {
   "cell_type": "code",
   "execution_count": 32,
   "id": "a913c6c7",
   "metadata": {},
   "outputs": [
    {
     "name": "stdout",
     "output_type": "stream",
     "text": [
      "accuracy Test: 0.8626677190213102\n",
      "accuracy Train: 0.8720089285714285\n",
      "precision: 0.8050556983718937\n",
      "recall: 0.7112036336109009\n"
     ]
    }
   ],
   "source": [
    "print(\"accuracy Test: \" + str(accuracy_score(testLabels, clfPredict)))\n",
    "print(\"accuracy Train: \" + str(accuracy_score(labels, clf.predict(features))))\n",
    "print(\"precision: \" + str(precision_score(testLabels, clfPredict)))\n",
    "print(\"recall: \" + str(recall_score(testLabels, clfPredict)))"
   ]
  },
  {
   "cell_type": "code",
   "execution_count": 33,
   "id": "212970fe",
   "metadata": {},
   "outputs": [],
   "source": [
    "# Test Daten mit GradientBoostingClassifier\n",
    "\n",
    "cbc = GradientBoostingClassifier(random_state=0, n_estimators=80, max_depth=6)\n",
    "cbc.fit(features, labels)\n",
    "\n",
    "cbcPredict = cbc.predict(testFeatures)"
   ]
  },
  {
   "cell_type": "code",
   "execution_count": 34,
   "id": "907c4776",
   "metadata": {
    "scrolled": true
   },
   "outputs": [
    {
     "name": "stdout",
     "output_type": "stream",
     "text": [
      "accuracy Test: 0.8734919382117488\n",
      "accuracy Train: 0.8961607142857143\n",
      "precision: 0.804\n",
      "recall: 0.7607872823618471\n"
     ]
    }
   ],
   "source": [
    "print(\"accuracy Test: \" + str(accuracy_score(testLabels, cbcPredict)))\n",
    "print(\"accuracy Train: \" + str(accuracy_score(labels, cbc.predict(features))))\n",
    "print(\"precision: \" + str(precision_score(testLabels, cbcPredict)))\n",
    "print(\"recall: \" + str(recall_score(testLabels, cbcPredict)))"
   ]
  },
  {
   "cell_type": "code",
   "execution_count": 35,
   "id": "f79e53dc",
   "metadata": {},
   "outputs": [],
   "source": [
    "# AUFGABE 14"
   ]
  },
  {
   "cell_type": "code",
   "execution_count": 36,
   "id": "8c8bd6b4",
   "metadata": {},
   "outputs": [
    {
     "data": {
      "text/plain": [
       "1125"
      ]
     },
     "execution_count": 36,
     "metadata": {},
     "output_type": "execute_result"
    }
   ],
   "source": [
    "lgrWrongIndices = []\n",
    "for i in range(0, testLabels.size):\n",
    "    if testLabels[i] != lgrPredict[i]:\n",
    "        lgrWrongIndices.append(i)\n",
    "len(lgrWrongIndices)"
   ]
  },
  {
   "cell_type": "code",
   "execution_count": 37,
   "id": "ad746c67",
   "metadata": {},
   "outputs": [
    {
     "data": {
      "text/plain": [
       "1218"
      ]
     },
     "execution_count": 37,
     "metadata": {},
     "output_type": "execute_result"
    }
   ],
   "source": [
    "clfWrongIndices = []\n",
    "for i in range(0, testLabels.size):\n",
    "    if testLabels[i] != clfPredict[i]:\n",
    "        clfWrongIndices.append(i)\n",
    "len(clfWrongIndices)"
   ]
  },
  {
   "cell_type": "code",
   "execution_count": 38,
   "id": "d66a7781",
   "metadata": {
    "scrolled": true
   },
   "outputs": [
    {
     "data": {
      "text/plain": [
       "1122"
      ]
     },
     "execution_count": 38,
     "metadata": {},
     "output_type": "execute_result"
    }
   ],
   "source": [
    "cbcWrongIndices = []\n",
    "for i in range(0, testLabels.size):\n",
    "    if testLabels[i] != cbcPredict[i]:\n",
    "        cbcWrongIndices.append(i)\n",
    "len(cbcWrongIndices)"
   ]
  },
  {
   "cell_type": "code",
   "execution_count": 39,
   "id": "fa34366b",
   "metadata": {},
   "outputs": [],
   "source": [
    "# AUFGABE 15"
   ]
  },
  {
   "cell_type": "code",
   "execution_count": 40,
   "id": "196655ba",
   "metadata": {},
   "outputs": [
    {
     "data": {
      "text/plain": [
       "849"
      ]
     },
     "execution_count": 40,
     "metadata": {},
     "output_type": "execute_result"
    }
   ],
   "source": [
    "x = set(lgrWrongIndices) & set(clfWrongIndices) & set(cbcWrongIndices)\n",
    "len(x)"
   ]
  }
 ],
 "metadata": {
  "kernelspec": {
   "display_name": "Python 3 (ipykernel)",
   "language": "python",
   "name": "python3"
  },
  "language_info": {
   "codemirror_mode": {
    "name": "ipython",
    "version": 3
   },
   "file_extension": ".py",
   "mimetype": "text/x-python",
   "name": "python",
   "nbconvert_exporter": "python",
   "pygments_lexer": "ipython3",
   "version": "3.8.12"
  }
 },
 "nbformat": 4,
 "nbformat_minor": 5
}
